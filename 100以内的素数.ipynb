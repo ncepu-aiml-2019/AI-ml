{
 "cells": [
  {
   "cell_type": "code",
   "execution_count": 6,
   "metadata": {},
   "outputs": [
    {
     "name": "stdout",
     "output_type": "stream",
     "text": [
      "3\n",
      "5\n",
      "7\n",
      "11\n",
      "13\n",
      "17\n",
      "19\n",
      "23\n",
      "29\n",
      "31\n",
      "37\n",
      "41\n",
      "43\n",
      "47\n",
      "53\n",
      "59\n",
      "61\n",
      "67\n",
      "71\n",
      "73\n",
      "79\n",
      "83\n",
      "89\n",
      "97\n",
      "\n",
      "100 内有 25 个质数\n"
     ]
    }
   ],
   "source": [
    "def primeNumber(n):\n",
    "    x = 1    # x累计1到n中的质数个数，由于2也是质数，这里先加+1\n",
    "    for i in range(3,n+1):  # 3到n+1取值（取一个值出来用内循环判断此数是否为质素）\n",
    "        result = True\n",
    "        for j in range(2,i-1):   # 2到i-1之间有没有被整数的数，有则不是质素\n",
    "            if i % j ==0:\n",
    "                result = False\n",
    "        if result == True:\n",
    "            print(i)\n",
    "            x += 1\n",
    "    print ('\\n%d 内有 %d 个质数' %(n,x))\n",
    "primeNumber(100)\n"
   ]
  },
  {
   "cell_type": "code",
   "execution_count": null,
   "metadata": {},
   "outputs": [],
   "source": []
  },
  {
   "cell_type": "code",
   "execution_count": null,
   "metadata": {},
   "outputs": [],
   "source": []
  }
 ],
 "metadata": {
  "kernelspec": {
   "display_name": "Python 3",
   "language": "python",
   "name": "python3"
  },
  "language_info": {
   "codemirror_mode": {
    "name": "ipython",
    "version": 3
   },
   "file_extension": ".py",
   "mimetype": "text/x-python",
   "name": "python",
   "nbconvert_exporter": "python",
   "pygments_lexer": "ipython3",
   "version": "3.7.0"
  }
 },
 "nbformat": 4,
 "nbformat_minor": 2
}
